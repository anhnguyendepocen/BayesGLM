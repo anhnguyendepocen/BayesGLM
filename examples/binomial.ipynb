{
 "cells": [
  {
   "cell_type": "markdown",
   "metadata": {},
   "source": [
    "# Binary / Binomial Data (replicating [the R package's vignette](https://github.com/stan-dev/rstanarm/blob/master/vignettes/binomial.Rmd))"
   ]
  },
  {
   "cell_type": "code",
   "execution_count": null,
   "metadata": {
    "collapsed": false
   },
   "outputs": [],
   "source": [
    "%load_ext autoreload\n",
    "%autoreload 2\n",
    "\n",
    "from bayesglm import stan_glm, priors, family\n",
    "import pandas as pd\n",
    "from ggplot import gg, ggplot_notebook\n",
    "import numpy as np\n",
    "from scipy.special import logit, expit\n",
    "from rpy2 import robjects"
   ]
  },
  {
   "cell_type": "code",
   "execution_count": null,
   "metadata": {
    "collapsed": false
   },
   "outputs": [],
   "source": [
    "# Load data and create dist100 variable \n",
    "wells = pd.read_csv(\"data/wells.csv\")\n",
    "wells['dist100'] = wells.dist / 100"
   ]
  },
  {
   "cell_type": "code",
   "execution_count": null,
   "metadata": {
    "collapsed": false
   },
   "outputs": [],
   "source": [
    "wells.head()"
   ]
  },
  {
   "cell_type": "code",
   "execution_count": null,
   "metadata": {
    "collapsed": false
   },
   "outputs": [],
   "source": [
    "p = gg.ggplot(wells) + \\\n",
    "    gg.aes_string(x = \"dist100\") + \\\n",
    "    gg.geom_histogram() + \\\n",
    "    gg.facet_grid(\"switch ~ .\", scales = \"free_y\")\n",
    "    \n",
    "# p = gg.ggplot(wells) + \\\n",
    "#     gg.aes_string(x = \"dist100\", fill = \"factor(switch)\") + \\\n",
    "#     gg.geom_histogram(gg.aes_string(y = \"..density..\", group = \"factor(switch)\"), alpha = .3) + \n",
    "#     gg.stat_bin()\n",
    "    "
   ]
  },
  {
   "cell_type": "code",
   "execution_count": null,
   "metadata": {
    "collapsed": false
   },
   "outputs": [],
   "source": [
    "ggplot_notebook(p)"
   ]
  },
  {
   "cell_type": "code",
   "execution_count": null,
   "metadata": {
    "collapsed": false
   },
   "outputs": [],
   "source": [
    "t_prior = priors.StudentTPrior(7, 0, 2.5)\n"
   ]
  },
  {
   "cell_type": "code",
   "execution_count": null,
   "metadata": {
    "collapsed": false
   },
   "outputs": [],
   "source": [
    "fit1 = stan_glm(\"switch ~ dist100\", wells, \n",
    "                 family = family.bernoulli_logit(), \n",
    "                 priors = {\"Intercept\": t_prior, \"dist100\": t_prior})"
   ]
  },
  {
   "cell_type": "code",
   "execution_count": null,
   "metadata": {
    "collapsed": false
   },
   "outputs": [],
   "source": [
    "fit1"
   ]
  },
  {
   "cell_type": "code",
   "execution_count": null,
   "metadata": {
    "collapsed": false
   },
   "outputs": [],
   "source": [
    "posterior_samples = fit1.extract(permuted=True)['beta']\n",
    "beta_intercept, beta_dist100 = np.mean(posterior_samples, axis=0)\n",
    "pr_switch = lambda dist100: expit(beta_intercept + beta_dist100 * dist100)"
   ]
  },
  {
   "cell_type": "code",
   "execution_count": null,
   "metadata": {
    "collapsed": false
   },
   "outputs": [],
   "source": [
    "\n",
    "dist100s = np.linspace(start = min(wells.dist100), stop = max(wells.dist100), num = 100)\n",
    "pr_switch_df = pd.DataFrame({\"dist100\": dist100s, \"switch\": pr_switch(dist100s)})\n",
    "pr_switch_df.head()"
   ]
  },
  {
   "cell_type": "code",
   "execution_count": null,
   "metadata": {
    "collapsed": false
   },
   "outputs": [],
   "source": [
    "p = gg.ggplot(wells) + \\\n",
    "    gg.aes_string(x = \"dist100\", y = \"switch\", color = \"switch\") + \\\n",
    "    gg.geom_point(position = gg.position_jitter(height = .05, width = .1)) +\\\n",
    "    gg.geom_line(gg.aes_string(x=\"dist100\", y=\"switch\"), data = pr_switch_df)\n",
    "ggplot_notebook(p)\n"
   ]
  },
  {
   "cell_type": "code",
   "execution_count": null,
   "metadata": {
    "collapsed": false
   },
   "outputs": [],
   "source": [
    "fit2 = stan_glm(\"switch ~ dist100 + arsenic\", wells, \n",
    "                 family = family.bernoulli_logit(), \n",
    "                 priors = {\"Intercept\": t_prior, \"dist100\": t_prior})"
   ]
  },
  {
   "cell_type": "code",
   "execution_count": null,
   "metadata": {
    "collapsed": false
   },
   "outputs": [],
   "source": [
    "fit2"
   ]
  },
  {
   "cell_type": "code",
   "execution_count": null,
   "metadata": {
    "collapsed": true
   },
   "outputs": [],
   "source": [
    "posterior_samples = fit2.extract(permuted=True)['beta']\n",
    "beta_intercept, beta_dist100, beta_arsenic = np.mean(posterior_samples, axis=0)\n",
    "pr_switch2 = lambda dist100, arsenic: expit(beta_intercept + beta_dist100 * dist100 + beta_arsenic * arsenic)"
   ]
  },
  {
   "cell_type": "code",
   "execution_count": null,
   "metadata": {
    "collapsed": true
   },
   "outputs": [],
   "source": [
    "# pr_switch2 <- function(x, y, ests) plogis(ests[1] + ests[2] * x + ests[3] * y)\n",
    "# grid <- expand.grid(dist100 = seq(0, 4, length.out = 100), \n",
    "#                     arsenic = seq(0, 10, length.out = 100))\n",
    "# grid$prob <- with(grid, pr_switch2(dist100, arsenic, coef(fit2)))\n",
    "# ggplot(grid, aes(x = dist100, y = arsenic)) + \n",
    "#   geom_tile(aes(fill = prob)) + \n",
    "#   geom_point(data = wells, aes(color = factor(switch)), size = 2, alpha = 0.85) + \n",
    "#   scale_fill_gradient() +\n",
    "#   scale_color_manual(\"switch\", values = c(\"white\", \"black\"), labels = c(\"No\", \"Yes\"))"
   ]
  },
  {
   "cell_type": "code",
   "execution_count": null,
   "metadata": {
    "collapsed": false
   },
   "outputs": [],
   "source": [
    "pd.DataFrame(np.array(np.meshgrid(np.array([1,2,3]), np.array([11,12,13]), indexing=\"ij\")).reshape(2, 9).transpose())"
   ]
  },
  {
   "cell_type": "code",
   "execution_count": null,
   "metadata": {
    "collapsed": true
   },
   "outputs": [],
   "source": []
  }
 ],
 "metadata": {
  "kernelspec": {
   "display_name": "Python 3",
   "language": "python",
   "name": "python3"
  },
  "language_info": {
   "codemirror_mode": {
    "name": "ipython",
    "version": 3
   },
   "file_extension": ".py",
   "mimetype": "text/x-python",
   "name": "python",
   "nbconvert_exporter": "python",
   "pygments_lexer": "ipython3",
   "version": "3.5.1"
  }
 },
 "nbformat": 4,
 "nbformat_minor": 0
}
