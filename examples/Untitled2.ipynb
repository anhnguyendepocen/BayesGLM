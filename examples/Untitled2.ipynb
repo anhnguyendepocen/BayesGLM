{
 "cells": [
  {
   "cell_type": "code",
   "execution_count": null,
   "metadata": {
    "collapsed": false
   },
   "outputs": [],
   "source": [
    "%load_ext autoreload\n",
    "%autoreload 2\n",
    "\n",
    "import numpy as np\n",
    "from scipy.special import expit, logit\n",
    "import pandas as pd\n",
    "\n",
    "from bayesglm.models import *\n",
    "import bayesglm.family as family"
   ]
  },
  {
   "cell_type": "code",
   "execution_count": null,
   "metadata": {
    "collapsed": false
   },
   "outputs": [],
   "source": [
    "import rpy2.robjects as robjects\n",
    "robjects.r('set.seed(0)')\n",
    "robjects.r('b0 <- 1')\n",
    "robjects.r('b1 <- 1.5')\n",
    "robjects.r('b2 <- 2')\n",
    "robjects.r('library(\"arm\")')\n",
    "robjects.r('n <- 100')\n",
    "robjects.r('x1 <- rnorm(n)')\n",
    "robjects.r('x2 <- rbinom(n, 1, .5)')\n",
    "robjects.r('y <- rbinom (n, 1, invlogit(b0+b1*x1+b2*x2))')"
   ]
  },
  {
   "cell_type": "code",
   "execution_count": null,
   "metadata": {
    "collapsed": false
   },
   "outputs": [],
   "source": [
    "len(x2)"
   ]
  },
  {
   "cell_type": "code",
   "execution_count": null,
   "metadata": {
    "collapsed": false
   },
   "outputs": [],
   "source": [
    "x1 = list(robjects.r['x1'])\n",
    "x2 = list(robjects.r['x2'])\n",
    "y = list(robjects.r['y'])"
   ]
  },
  {
   "cell_type": "code",
   "execution_count": null,
   "metadata": {
    "collapsed": false
   },
   "outputs": [],
   "source": [
    "# x1 = np.random.normal(size=n)\n",
    "# x2 = np.random.binomial(size=n, n=1, p=.5)\n",
    "# p = expit(b0+b1*x1+b2*x2)\n",
    "# y = np.random.binomial(size=n, n=1, p=p)\n",
    "df = pd.DataFrame({\"x1\": x1, \n",
    "              \"x2\": x2, \n",
    "              \"y\": y,\n",
    "             })"
   ]
  },
  {
   "cell_type": "code",
   "execution_count": null,
   "metadata": {
    "collapsed": false
   },
   "outputs": [],
   "source": [
    "result = bayesglm(\"y ~ x1 + x2\", df, family = family.bernoulli_logit(), iterations=10000)"
   ]
  },
  {
   "cell_type": "code",
   "execution_count": null,
   "metadata": {
    "collapsed": false
   },
   "outputs": [],
   "source": [
    "result"
   ]
  },
  {
   "cell_type": "code",
   "execution_count": null,
   "metadata": {
    "collapsed": true
   },
   "outputs": [],
   "source": []
  },
  {
   "cell_type": "code",
   "execution_count": null,
   "metadata": {
    "collapsed": true
   },
   "outputs": [],
   "source": []
  },
  {
   "cell_type": "code",
   "execution_count": null,
   "metadata": {
    "collapsed": true
   },
   "outputs": [],
   "source": []
  }
 ],
 "metadata": {
  "kernelspec": {
   "display_name": "Python 2",
   "language": "python",
   "name": "python2"
  },
  "language_info": {
   "codemirror_mode": {
    "name": "ipython",
    "version": 2
   },
   "file_extension": ".py",
   "mimetype": "text/x-python",
   "name": "python",
   "nbconvert_exporter": "python",
   "pygments_lexer": "ipython2",
   "version": "2.7.10"
  }
 },
 "nbformat": 4,
 "nbformat_minor": 0
}
